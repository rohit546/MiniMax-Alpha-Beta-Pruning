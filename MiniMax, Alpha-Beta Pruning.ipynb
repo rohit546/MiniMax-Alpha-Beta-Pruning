{
 "cells": [
  {
   "cell_type": "code",
   "execution_count": 25,
   "id": "c63535be",
   "metadata": {},
   "outputs": [
    {
     "name": "stdout",
     "output_type": "stream",
     "text": [
      "Optimal Value: 3\n",
      "Optimal Path: [None, 3]\n"
     ]
    }
   ],
   "source": [
    "class Node:\n",
    "    def __init__(self, value=None):\n",
    "        self.value = value  \n",
    "        self.children = [] \n",
    "\n",
    "def create_tree():\n",
    "   \n",
    "    root = Node()\n",
    "    root.children = [Node(), Node(), Node()]\n",
    "    for child in root.children:\n",
    "        child.children = [Node(), Node(), Node()]\n",
    "        for leaf in child.children:\n",
    "            leaf.value = None  \n",
    "    return root\n",
    "\n",
    "def assign_leaf_values(node, values):\n",
    "    \n",
    "    if not node.children:\n",
    "        node.value = values.pop(0)\n",
    "        return\n",
    "    for child in node.children:\n",
    "        assign_leaf_values(child, values)\n",
    "\n",
    "def print_tree(node, level=0):\n",
    "  \n",
    "    if node is None:\n",
    "        return\n",
    "    if node.value is not None:\n",
    "        print(\"   \" * level + str(node.value))\n",
    "    for child in node.children:\n",
    "        print_tree(child, level + 1)\n",
    "\n",
    "def terminal_test(node):\n",
    " \n",
    "    return not node.children\n",
    "\n",
    "def utility(node):\n",
    "    return node.value\n",
    "\n",
    "def minimax_decision(node):\n",
    " \n",
    "    return max_value(node, [])\n",
    "\n",
    "def min_value(node, path):\n",
    "  \n",
    "    if terminal_test(node):\n",
    "        return utility(node), path  \n",
    "    v = float('inf')\n",
    "    optimal_path = None\n",
    "    for child in node.children:\n",
    "        child_value, child_path = max_value(child, path + [child.value])\n",
    "        if child_value < v:\n",
    "            v = child_value\n",
    "            optimal_path = child_path\n",
    "    return v, optimal_path\n",
    "\n",
    "def max_value(node, path):\n",
    " \n",
    "    if terminal_test(node):\n",
    "        return utility(node), path  \n",
    "    v = float('-inf')\n",
    "    optimal_path = None\n",
    "    for child in node.children:\n",
    "        child_value, child_path = min_value(child, path + [child.value])\n",
    "        if child_value > v:\n",
    "            v = child_value\n",
    "            optimal_path = child_path\n",
    "    return v, optimal_path\n",
    "\n",
    "\n",
    "root = create_tree()\n",
    "\n",
    "assign_leaf_values(root, [3, 12, 18, -1, 5, 8, -10, -5, -3])\n",
    "\n",
    "optimal_value, optimal_path = minimax_decision(root)\n",
    "\n",
    "print(\"Optimal Value:\", optimal_value)\n",
    "print(\"Optimal Path:\", optimal_path)"
   ]
  },
  {
   "cell_type": "code",
   "execution_count": null,
   "id": "c386c536",
   "metadata": {},
   "outputs": [],
   "source": []
  },
  {
   "cell_type": "code",
   "execution_count": null,
   "id": "92163182",
   "metadata": {},
   "outputs": [],
   "source": []
  }
 ],
 "metadata": {
  "kernelspec": {
   "display_name": "Python 3 (ipykernel)",
   "language": "python",
   "name": "python3"
  },
  "language_info": {
   "codemirror_mode": {
    "name": "ipython",
    "version": 3
   },
   "file_extension": ".py",
   "mimetype": "text/x-python",
   "name": "python",
   "nbconvert_exporter": "python",
   "pygments_lexer": "ipython3",
   "version": "3.11.4"
  }
 },
 "nbformat": 4,
 "nbformat_minor": 5
}
